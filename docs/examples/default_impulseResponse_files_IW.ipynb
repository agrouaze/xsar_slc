{
 "cells": [
  {
   "cell_type": "markdown",
   "id": "88bf5fae-ce0d-4ba8-9014-831d2de25ac1",
   "metadata": {},
   "source": [
    "# illustration of the default Impulse Response (IR) files from `xsarslc`"
   ]
  },
  {
   "cell_type": "code",
   "execution_count": null,
   "id": "3908b601-0d59-4a40-87c6-3d4dcfb11224",
   "metadata": {
    "tags": []
   },
   "outputs": [],
   "source": [
    "import xsarslc.get_config_infos\n",
    "from importlib import reload\n",
    "reload(xsarslc.get_config_infos)\n",
    "import holoviews as hv\n",
    "hv.extension('bokeh')\n",
    "import xarray as xr\n",
    "import os"
   ]
  },
  {
   "cell_type": "code",
   "execution_count": null,
   "id": "3e449083-9b25-4b41-bcf4-81bf781e98a0",
   "metadata": {
    "tags": []
   },
   "outputs": [],
   "source": [
    "lst_nc = []\n",
    "for unit in ['S1A','S1B']:\n",
    "    for sw in ['IW1','IW2','IW3']:\n",
    "        for pol in ['VV']:\n",
    "            fileir = xsarslc.get_config_infos.get_IR_file(unit=unit, subswath=sw, polarization=pol)\n",
    "            lst_nc.append(fileir)\n",
    "            print(fileir)"
   ]
  },
  {
   "cell_type": "markdown",
   "id": "fcdc10c1-abae-4b08-b80a-db13ffa47d40",
   "metadata": {
    "execution": {
     "iopub.execute_input": "2023-03-08T13:18:54.117087Z",
     "iopub.status.busy": "2023-03-08T13:18:54.116813Z",
     "iopub.status.idle": "2023-03-08T13:18:54.119682Z",
     "shell.execute_reply": "2023-03-08T13:18:54.119214Z",
     "shell.execute_reply.started": "2023-03-08T13:18:54.117066Z"
    },
    "tags": []
   },
   "source": [
    "## display IR in range dimension"
   ]
  },
  {
   "cell_type": "code",
   "execution_count": null,
   "id": "aa927ca4-e375-402c-8257-c604cd5479e8",
   "metadata": {
    "tags": []
   },
   "outputs": [],
   "source": [
    "vari =  'range_IR'\n",
    "all_cu = []\n",
    "filter_out = ['HH','HV','VH']\n",
    "for ff in lst_nc:\n",
    "    go = True\n",
    "    for fi in filter_out:\n",
    "        if fi in ff:\n",
    "            print(ff,'filtered out with',fi)\n",
    "            go = False\n",
    "        else:\n",
    "            pass\n",
    "    if go:\n",
    "        ds = xr.open_dataset(ff)\n",
    "\n",
    "        tmpcu = hv.Curve(ds[vari],label=os.path.basename(ff)).opts(tools=['hover'],show_legend=True)\n",
    "        all_cu.append(tmpcu)\n",
    "print(len(all_cu))\n",
    "hv.Overlay(all_cu).opts(width=1000,height=750,tools=['hover'],show_grid=True,show_legend=True)"
   ]
  },
  {
   "cell_type": "markdown",
   "id": "7d80fcb8-c222-43b7-a22a-4356d734a593",
   "metadata": {},
   "source": [
    "## display IR in azimuth dimension"
   ]
  },
  {
   "cell_type": "code",
   "execution_count": null,
   "id": "148867a8-432c-4b00-af54-4f1c656aa654",
   "metadata": {
    "tags": []
   },
   "outputs": [],
   "source": [
    "\n",
    "vari = 'azimuth_IR'\n",
    "all_cu = []\n",
    "filter_out = ['HH','HV','VH']\n",
    "for ff in lst_nc:\n",
    "    go = True\n",
    "    for fi in filter_out:\n",
    "        if fi in ff:\n",
    "            print(ff,'filtered out with',fi)\n",
    "            go = False\n",
    "        else:\n",
    "            pass\n",
    "    if go:\n",
    "        ds = xr.open_dataset(ff)\n",
    "\n",
    "        tmpcu = hv.Curve(ds[vari],label=os.path.basename(ff)).opts(tools=['hover'],show_legend=True)\n",
    "        all_cu.append(tmpcu)\n",
    "print(len(all_cu))\n",
    "hv.Overlay(all_cu).opts(width=1000,height=750,tools=['hover'],show_grid=True,show_legend=True)"
   ]
  }
 ],
 "metadata": {
  "kernelspec": {
   "display_name": "Python 3 (ipykernel)",
   "language": "python",
   "name": "python3"
  },
  "language_info": {
   "codemirror_mode": {
    "name": "ipython",
    "version": 3
   },
   "file_extension": ".py",
   "mimetype": "text/x-python",
   "name": "python",
   "nbconvert_exporter": "python",
   "pygments_lexer": "ipython3",
   "version": "3.9.15"
  }
 },
 "nbformat": 4,
 "nbformat_minor": 5
}
