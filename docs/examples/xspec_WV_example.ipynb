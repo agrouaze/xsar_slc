{
 "cells": [
  {
   "cell_type": "markdown",
   "id": "2ee17afe-b4a1-4f29-ab4f-03a2f5050a81",
   "metadata": {},
   "source": [
    "# Example to compute image cross spectrum between different looks within a WV Sentinel-1 SLC product\n",
    "in WV images (20 km X 20 km) there is only one burst (thus no overlapping area).\n"
   ]
  },
  {
   "cell_type": "code",
   "execution_count": null,
   "id": "5b8a753a-fcd3-406b-addc-35f640d0bb4e",
   "metadata": {
    "tags": []
   },
   "outputs": [],
   "source": [
    "import xsar\n",
    "import warnings\n",
    "import logging\n",
    "from importlib import reload\n",
    "reload(logging)\n",
    "logging.basicConfig(level=logging.INFO)\n",
    "logging.info('go')\n",
    "# warnings.simplefilter(action='ignore', category=FutureWarning)\n",
    "warnings.filterwarnings(\"ignore\")\n",
    "#tmp = xsar.get_test_file('S1A_WV_SLC__1SSV_20160510T101603_20160510T102143_011195_010EA1_Z010.SAFE')\n",
    "tmp = xsar.get_test_file('S1A_WV_SLC__1SSV_20191005T100804_20191005T101314_029322_035533_0597.SAFE') # very small product\n",
    "# print(tmp)\n",
    "# tmp = '/home/datawork-cersat-public/cache/project/mpc-sentinel1/data/esa/sentinel-1a/L2/WV/S1A_WV_OCN__2S/2016/131/S1A_WV_OCN__2SSV_20160510T101603_20160510T102143_011195_010EA1_F972.SAFE'\n",
    "# tmp = '/home/datawork-cersat-public/cache/project/mpc-sentinel1/data/esa/sentinel-1a/L1/WV/S1A_WV_SLC__1S/2016/131/S1A_WV_SLC__1SSV_20160510T101603_20160510T102143_011195_010EA1_7038.SAFE'\n",
    "# tmp = '/home/datawork-cersat-public/cache/project/mpc-sentinel1/data/esa/sentinel-1a/L1/WV/S1A_WV_SLC__1S/2023/014/S1A_WV_SLC__1SSV_20230114T130811_20230114T133351_046780_059BC5_FED5.SAFE'\n",
    "\n",
    "strwv = 'SENTINEL1_DS:'+tmp+':WV_017'\n",
    "print(strwv)\n",
    "xsar_instance = xsar.Sentinel1Dataset(strwv)\n",
    "xsar_instance\n"
   ]
  },
  {
   "cell_type": "code",
   "execution_count": null,
   "id": "de7d3dea-80f0-4ced-8c49-dfc14028c29a",
   "metadata": {
    "tags": []
   },
   "outputs": [],
   "source": [
    "xsar_instance.dataset"
   ]
  },
  {
   "cell_type": "code",
   "execution_count": null,
   "id": "992e9247-a8f8-424e-a9b6-8906a051c8ac",
   "metadata": {
    "tags": []
   },
   "outputs": [],
   "source": [
    "xsar_instance.dataset.digital_number.values[0:10,0:10]"
   ]
  },
  {
   "cell_type": "markdown",
   "id": "f1707af7-068f-47df-9baf-b7b243ebbe6c",
   "metadata": {},
   "source": [
    "# display digital numbers"
   ]
  },
  {
   "cell_type": "code",
   "execution_count": null,
   "id": "3e30890c-09a2-420d-87c6-ea4b9e41bd8f",
   "metadata": {
    "tags": []
   },
   "outputs": [],
   "source": [
    "import holoviews as hv\n",
    "import numpy as np\n",
    "from holoviews.operation.datashader import datashade,rasterize\n",
    "hv.extension('bokeh')"
   ]
  },
  {
   "cell_type": "code",
   "execution_count": null,
   "id": "adb2b140-c975-4c85-8050-49c28105dc4a",
   "metadata": {
    "tags": []
   },
   "outputs": [],
   "source": [
    "tmp = abs(xsar_instance.dataset['digital_number'].sel(pol='VV'))\n",
    "DN = tmp.rolling({\"sample\":10,\"line\":10}).mean()\n",
    "DN"
   ]
  },
  {
   "cell_type": "code",
   "execution_count": null,
   "id": "29b4fd95-7c33-4922-ba73-f7a813e95168",
   "metadata": {
    "tags": []
   },
   "outputs": [],
   "source": [
    "rasterize(hv.Image(DN.values).opts(width=800,height=700,cmap='Greys',colorbar=True))# clim=(0,40)"
   ]
  },
  {
   "cell_type": "markdown",
   "id": "615f58ca-d738-47fa-b083-720ffe7239e1",
   "metadata": {},
   "source": [
    "# compute the periodograms and the looks inside the periodograms to get a cross spectra"
   ]
  },
  {
   "cell_type": "code",
   "execution_count": null,
   "id": "4bf4dc26-4edc-4eb8-b5f3-b663fddcd01e",
   "metadata": {
    "tags": []
   },
   "outputs": [],
   "source": [
    "from xsarslc.processing.xspectra import compute_WV_intraburst_xspectra\n",
    "import time\n",
    "t0 = time.time()\n",
    "xs0 = compute_WV_intraburst_xspectra(dt=xsar_instance.datatree,\n",
    "                                          polarization='VV',periodo_width={\"line\":2000,\"sample\":2000},\n",
    "                                          periodo_overlap={\"line\":1000,\"sample\":1000})\n",
    "print('time to compute x-spectra on WV :%1.1f sec'%(time.time()-t0))\n",
    "xs0"
   ]
  },
  {
   "cell_type": "code",
   "execution_count": null,
   "id": "740df879-34f6-4dba-b3bd-9803babba620",
   "metadata": {
    "tags": []
   },
   "outputs": [],
   "source": [
    "import numpy as np\n",
    "from xsarslc.processing import xspectra\n",
    "xs = xs0.swap_dims({'freq_line': 'k_az', 'freq_sample': 'k_rg'})\n",
    "xs = xspectra.symmetrize_xspectrum(xs, dim_range='k_rg', dim_azimuth='k_az')\n",
    "\n",
    "############################################ real part ############################\n",
    "coS=np.abs(xs['xspectra_2tau'].mean(dim='2tau').real) \n",
    "coS_reduced = coS.where(np.logical_and(np.abs(coS.k_rg)<=0.14, np.abs(coS.k_az)<=0.14), drop=True)\n",
    "from matplotlib import pyplot as plt\n",
    "%matplotlib inline\n",
    "from matplotlib import colors as mcolors\n",
    "cmap = mcolors.LinearSegmentedColormap.from_list(\"\", [\"white\",\"violet\",\"mediumpurple\",\"cyan\",\"springgreen\",\"yellow\",\"red\"])\n",
    "PuOr = plt.get_cmap('PuOr')\n",
    "plt.figure(figsize=(8,6))\n",
    "#coS_reduced_av=coS_reduced.rolling(k_rg=3, center=True).mean().rolling(k_az=3, center=True).mean()\n",
    "coS_reduced.plot(cmap=cmap, levels=20, vmin=0)\n",
    "\n",
    "plt.grid()\n",
    "plt.xticks(fontsize=20)\n",
    "plt.yticks(fontsize=20)\n",
    "plt.axis('scaled')\n",
    "\n",
    "############################################ imag.part ############################\n",
    "ims = xs['xspectra_2tau'].mean(dim='2tau').imag.squeeze()\n",
    "xS_red = ims.where(np.logical_and(np.abs(ims.k_rg)<=0.14, np.abs(ims.k_az)<=0.14), drop=True)\n",
    "#xS_av=xS_red.rolling(k_rg=3, center=True).mean().rolling(k_az=3, center=True).mean()\n",
    "\n",
    "plt.figure(figsize=(8,6))\n",
    "xS_red.plot(x='k_rg',cmap=PuOr)\n",
    "plt.grid()\n",
    "plt.xticks(fontsize=20)\n",
    "plt.yticks(fontsize=20)\n",
    "plt.axis('scaled')"
   ]
  }
 ],
 "metadata": {
  "kernelspec": {
   "display_name": "Python 3 (ipykernel)",
   "language": "python",
   "name": "python3"
  },
  "language_info": {
   "codemirror_mode": {
    "name": "ipython",
    "version": 3
   },
   "file_extension": ".py",
   "mimetype": "text/x-python",
   "name": "python",
   "nbconvert_exporter": "python",
   "pygments_lexer": "ipython3",
   "version": "3.10.9"
  }
 },
 "nbformat": 4,
 "nbformat_minor": 5
}
