{
 "cells": [
  {
   "cell_type": "markdown",
   "id": "bd95fe88-ffa7-48c0-b61a-0571d821d89c",
   "metadata": {},
   "source": [
    "# SAR Sentinel-1 cross spectrum computation from large image Interferometric Wide-swath SLC"
   ]
  },
  {
   "cell_type": "code",
   "execution_count": null,
   "id": "38239b23-28fd-4db8-ad53-01e2db614304",
   "metadata": {
    "tags": []
   },
   "outputs": [],
   "source": [
    "import os\n",
    "import xsarslc.get_test_files\n",
    "import logging\n",
    "import xsar\n",
    "from importlib import reload\n",
    "reload(logging)\n",
    "logging.basicConfig(level=logging.INFO)\n",
    "logging.info('start notebook')\n",
    "import xsarslc.processing.xspectra as proc\n",
    "import warnings\n",
    "warnings.simplefilter(action='ignore', category=FutureWarning)\n",
    "warnings.filterwarnings(\"ignore\")"
   ]
  },
  {
   "cell_type": "markdown",
   "id": "84c1d418-a654-40ac-b3d3-83274d7f8fa1",
   "metadata": {},
   "source": [
    "## get datatree with digital numbers and annotations from IW SLC product"
   ]
  },
  {
   "cell_type": "code",
   "execution_count": null,
   "id": "4c0ac48d-d87e-41a1-85bd-542bb67db323",
   "metadata": {
    "tags": []
   },
   "outputs": [],
   "source": [
    "\n",
    "import xsarslc\n",
    "import xsar\n",
    "import os\n",
    "#one_tiff = '/home/datawork-cersat-public/cache/project/mpc-sentinel1/data/esa/sentinel-1a/L1/IW/S1A_IW_SLC__1S/2022/127/S1A_IW_SLC__1SDV_20220507T162411_20220507T162439_043107_0525DE_734D.SAFE/measurement/s1a-iw1-slc-vv-20220507t162411-20220507t162439-043107-0525de-004.tiff'\n",
    "#tmp = xsar.get_test_file('S1A_IW_SLC__1SDV_20170907T103019_20170907T103047_018268_01EB76_5F55.SAFE')\n",
    "fullpathsafeSLC = xsar.get_test_file('S1A_IW_SLC__1SDV_20181008T134439_20181008T134506_024045_02A0A6_65C8.SAFE') # only one subswath IW1 zipped\n",
    "\n",
    "#fullpathsafeSLC = os.path.dirname(os.path.dirname(one_tiff))\n",
    "#imagette_number = os.path.basename(one_tiff).split('-')[1].replace('iw','')\n",
    "imagette_number = 1\n",
    "str_gdal = 'SENTINEL1_DS:%s:IW%s'%(fullpathsafeSLC,imagette_number)\n",
    "print('str_gdal',str_gdal)\n",
    "xsarobj = xsar.Sentinel1Dataset(str_gdal) #,resolution='30m'\n",
    "dt = xsarobj.datatree\n",
    "dt.load()\n",
    "dt"
   ]
  },
  {
   "cell_type": "markdown",
   "id": "f065b669-ffa4-4fe1-a8cb-3059dba08761",
   "metadata": {},
   "source": [
    "## cross spectrum in inter bursts parts of the IW product"
   ]
  },
  {
   "cell_type": "code",
   "execution_count": null,
   "id": "3848f415-77f2-4a00-87cf-f3c4928d724e",
   "metadata": {
    "tags": []
   },
   "outputs": [],
   "source": [
    "inter_xs = proc.compute_IW_subswath_interburst_xspectra(dt,\n",
    "                                        tile_width={'sample': 20.e3, 'line': 20.e3},\n",
    "                                        tile_overlap={'sample': 0, 'line': 0},\n",
    "                                        periodo_width = {'sample': 2000, 'line': 1200},\n",
    "                                        periodo_overlap = {'sample': 1000, 'line': 600},\n",
    "                                        dev=True,polarization='VV')\n",
    "inter_xs"
   ]
  },
  {
   "cell_type": "markdown",
   "id": "44d6c763-0d2c-4ca7-a57c-db889a8b6180",
   "metadata": {},
   "source": [
    "# cross spectrum in intra bursts parts of the IW product"
   ]
  },
  {
   "cell_type": "code",
   "execution_count": null,
   "id": "8bde6c67-8739-4bb2-8c15-497f46b56f07",
   "metadata": {
    "tags": []
   },
   "outputs": [],
   "source": [
    "intra_xs = proc.compute_IW_subswath_intraburst_xspectra(dt, \n",
    "                                         tile_width={'sample': 20.e3, 'line': 20.e3},\n",
    "                                        tile_overlap={'sample': 0, 'line': 0},\n",
    "                                        periodo_width = {'sample': 4000, 'line': 4000},\n",
    "                                        periodo_overlap = {'sample': 2000, 'line': 2000},\n",
    "                                        polarization='VV',dev=True)\n",
    "intra_xs\n"
   ]
  }
 ],
 "metadata": {
  "kernelspec": {
   "display_name": "Python 3 (ipykernel)",
   "language": "python",
   "name": "python3"
  },
  "language_info": {
   "codemirror_mode": {
    "name": "ipython",
    "version": 3
   },
   "file_extension": ".py",
   "mimetype": "text/x-python",
   "name": "python",
   "nbconvert_exporter": "python",
   "pygments_lexer": "ipython3",
   "version": "3.9.15"
  },
  "toc-autonumbering": true
 },
 "nbformat": 4,
 "nbformat_minor": 5
}
