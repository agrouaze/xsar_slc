{
 "cells": [
  {
   "cell_type": "markdown",
   "id": "3f206822-2617-42ad-94d7-b5f5fdf0c786",
   "metadata": {},
   "source": [
    "# A notebook to illustrate how to compute and correct Impulse Response in WV SLC product"
   ]
  },
  {
   "cell_type": "code",
   "execution_count": null,
   "id": "36891044-5835-4737-b8cc-981abf94f7ae",
   "metadata": {
    "tags": []
   },
   "outputs": [],
   "source": [
    "\"\"\"\n",
    "This is an example to show how to compute sensor Impulse Response (RI) on WV SLC data\n",
    "and then correct it.\n",
    "\"\"\""
   ]
  },
  {
   "cell_type": "markdown",
   "id": "1b0909c9-be89-4f3e-a5fc-ff015fe0bad1",
   "metadata": {},
   "source": [
    "## read a WV SLC over homogeneous region in the rain forest"
   ]
  },
  {
   "cell_type": "code",
   "execution_count": null,
   "id": "833a2554-a4d6-474b-a523-97084fab21fb",
   "metadata": {
    "tags": []
   },
   "outputs": [],
   "source": [
    "import warnings\n",
    "warnings.filterwarnings(\"ignore\")\n",
    "from xsarslc.processing.impulseResponse import generate_WV_AUX_file_ImpulseReponse\n",
    "# SENTINEL1_DS:/home/datawork-cersat-public/cache/project/mpc-sentinel1/data/esa/sentinel-1a/L1/WV/S1A\\_WV\\_SLC\\_\\_1S/2018/050/S1A\\_WV\\_SLC\\_\\_1SSV\\_20180219T221522\\_20180219T222851\\_020681\\_0236CE\\_8F55.SAFE:WV_051\n",
    "subswathes = {'/home/datawork-cersat-public/cache/project/mpc-sentinel1/data/esa/sentinel-1a/L1/WV/S1A_WV_SLC__1S/2018/050/S1A_WV_SLC__1SSV_20180219T221522_20180219T222851_020681_0236CE_8F55.SAFE':['051'],\n",
    "             '/home/datawork-cersat-public/cache/project/mpc-sentinel1/data/esa/sentinel-1a/L1/WV/S1A_WV_SLC__1S/2018/062/S1A_WV_SLC__1SSV_20180303T221522_20180303T222851_020856_023C59_7FBF.SAFE':['051']}\n",
    "\n",
    "IRs = generate_WV_AUX_file_ImpulseReponse(subswathes)\n",
    "IRs"
   ]
  },
  {
   "cell_type": "code",
   "execution_count": null,
   "id": "edd52c2e-a1b5-4310-840c-b5c25d56f92e",
   "metadata": {
    "tags": []
   },
   "outputs": [],
   "source": [
    "from matplotlib import pyplot as plt\n",
    "IRs['azimuth_IR'].plot()\n",
    "plt.grid(True)"
   ]
  },
  {
   "cell_type": "code",
   "execution_count": null,
   "id": "9b245424-08de-4d6b-9f3f-deaf6fa3e230",
   "metadata": {
    "tags": []
   },
   "outputs": [],
   "source": [
    "IRs['range_IR'].plot()\n",
    "plt.grid(True)"
   ]
  },
  {
   "cell_type": "markdown",
   "id": "4460f4ca-7271-4fbc-b15e-5a9eeaaa19ac",
   "metadata": {},
   "source": [
    "## write a netCDF AUX IR file"
   ]
  },
  {
   "cell_type": "code",
   "execution_count": null,
   "id": "e4cc6e44-33e5-4789-99f6-00ef4a9ca931",
   "metadata": {
    "tags": []
   },
   "outputs": [],
   "source": [
    "out_file = \"/tmp/S1_IR_WV_AUX_FILE.nc\"\n",
    "if 'footprint' in IRs.attrs:\n",
    "    IRs.attrs.update({'footprint': str(IRs.footprint)})\n",
    "if 'multidataset' in IRs.attrs:\n",
    "    IRs.attrs.update({'multidataset': str(IRs.multidataset)})\n",
    "IRs.to_netcdf(out_file)\n",
    "print(out_file)\n",
    "IRs.to_netcdf(out_file)\n",
    "print(out_file)"
   ]
  },
  {
   "cell_type": "markdown",
   "id": "049bfbc1-d423-4475-9898-ecc4a9e6c759",
   "metadata": {},
   "source": [
    "## apply IR correction when computing cross spectra on a WV image"
   ]
  },
  {
   "cell_type": "code",
   "execution_count": null,
   "id": "75aaa629-702f-44f6-8e68-10b391665d28",
   "metadata": {
    "tags": []
   },
   "outputs": [],
   "source": [
    "out_file = \"/tmp/S1_IR_WV_AUX_FILE.nc\"\n",
    "import os\n",
    "import xsar\n",
    "import warnings\n",
    "warnings.filterwarnings(\"ignore\")\n",
    "#a_wv_safe = '/home/datawork-cersat-public/cache/project/mpc-sentinel1/data/esa/sentinel-1a/L1/WV/S1A_WV_SLC__1S/2023/030/S1A_WV_SLC__1SSV_20230130T095609_20230130T100149_047011_05A391_E93C.SAFE'\n",
    "a_wv_tiff = '/home/datawork-cersat-public/cache/project/mpc-sentinel1/data/esa/sentinel-1a/L1/WV/S1A_WV_SLC__1S/2023/030/S1A_WV_SLC__1SSV_20230130T095609_20230130T100149_047011_05A391_E93C.SAFE/measurement/s1a-wv1-slc-vv-20230130t100004-20230130t100007-047011-05a391-017.tiff'\n",
    "fullpathsafeSLC = os.path.dirname(os.path.dirname(a_wv_tiff))\n",
    "print(fullpathsafeSLC,os.path.exists(fullpathsafeSLC))\n",
    "\n",
    "imagette_number = os.path.basename(a_wv_tiff).split('-')[-1].replace('.tiff','')\n",
    "str_gdal = 'SENTINEL1_DS:%s:WV_%s'%(fullpathsafeSLC,imagette_number)\n",
    "print('str_gdal',str_gdal)\n",
    "s1ds = xsar.Sentinel1Dataset(str_gdal)\n",
    "s1ds"
   ]
  },
  {
   "cell_type": "code",
   "execution_count": null,
   "id": "0d7ca8eb-a8c0-43ef-a171-efad7a69f1e1",
   "metadata": {
    "tags": []
   },
   "outputs": [],
   "source": [
    "slc = s1ds.datatree['measurement'].to_dataset()['digital_number']\n",
    "slc"
   ]
  },
  {
   "cell_type": "code",
   "execution_count": null,
   "id": "8a0bd2f7-6192-412a-a308-5a13e8eed445",
   "metadata": {
    "tags": []
   },
   "outputs": [],
   "source": [
    "s1ds.dataset"
   ]
  },
  {
   "cell_type": "code",
   "execution_count": null,
   "id": "52154c23-804e-4991-bbbb-0de9e3afa354",
   "metadata": {},
   "outputs": [],
   "source": [
    "\n",
    "# from xsarslc.processing.xspectra.compute_subswath_intraburst_xspectra import compute_intraburst_xspectrum\n",
    "# compute_intraburst_xspectrum(slc, mean_incidence, slant_spacing, azimuth_spacing, synthetic_duration,\n",
    "#                                  azimuth_dim='line', nperseg={'sample': 512, 'line': 512},\n",
    "#                                  noverlap={'sample': 256, 'line': 256}, IR_path=out_file)"
   ]
  },
  {
   "cell_type": "markdown",
   "id": "73c02cc0-e212-4839-8950-f0fa641b2a1f",
   "metadata": {},
   "source": [
    "### compute xspec without IR correction"
   ]
  },
  {
   "cell_type": "code",
   "execution_count": null,
   "id": "b8535082-0ba3-417d-92a3-2698ec5a5abe",
   "metadata": {
    "tags": []
   },
   "outputs": [],
   "source": [
    "from xsarslc.processing.xspectra import compute_WV_intraburst_xspectra\n",
    "import time\n",
    "t0 = time.time()\n",
    "xs0 = compute_WV_intraburst_xspectra(dt=s1ds.datatree,\n",
    "                                          polarization='VV',periodo_width={\"line\":2000,\"sample\":2000},\n",
    "                                          periodo_overlap={\"line\":1000,\"sample\":1000})\n",
    "print('time to compute x-spectra on WV :%1.1f sec'%(time.time()-t0))\n",
    "xs0"
   ]
  },
  {
   "cell_type": "markdown",
   "id": "7da47cba-37a0-4435-b59e-08a72c54d4b0",
   "metadata": {},
   "source": [
    "### compute xspec with IR corretion"
   ]
  },
  {
   "cell_type": "code",
   "execution_count": null,
   "id": "ad15f7c9-649f-45ca-b353-2679373f5977",
   "metadata": {
    "tags": []
   },
   "outputs": [],
   "source": [
    "import time\n",
    "import xsarslc.processing.xspectra\n",
    "from importlib import reload\n",
    "reload(xsarslc.processing.xspectra)\n",
    "t0 = time.time()\n",
    "xs1 = xsarslc.processing.xspectra.compute_WV_intraburst_xspectra(dt=s1ds.datatree,\n",
    "                                          polarization='VV',periodo_width={\"line\":2000,\"sample\":2000},\n",
    "                                          periodo_overlap={\"line\":1000,\"sample\":1000},IR_path=out_file)\n",
    "print('time to compute x-spectra on WV :%1.1f sec'%(time.time()-t0))\n",
    "xs1"
   ]
  },
  {
   "cell_type": "markdown",
   "id": "d8849e56-1bc3-4539-959c-94c9882c7cef",
   "metadata": {},
   "source": [
    "## compare with/without"
   ]
  },
  {
   "cell_type": "code",
   "execution_count": null,
   "id": "79aff068-d72c-4357-aa15-824375a4d028",
   "metadata": {
    "tags": []
   },
   "outputs": [],
   "source": [
    "import numpy as np\n",
    "from xsarslc.processing import xspectra\n",
    "xs = xs0.swap_dims({'freq_line': 'k_az', 'freq_sample': 'k_rg'})\n",
    "xs = xspectra.symmetrize_xspectrum(xs, dim_range='k_rg', dim_azimuth='k_az')\n",
    "\n",
    "xs_ir = xs1.swap_dims({'freq_line': 'k_az', 'freq_sample': 'k_rg'})\n",
    "xs_ir = xspectra.symmetrize_xspectrum(xs_ir, dim_range='k_rg', dim_azimuth='k_az')\n",
    "\n",
    "############################################ real part ############################\n",
    "coS=np.abs(xs['xspectra_2tau'].mean(dim='2tau').real) # co spectrum = real part of cross-spectrum\n",
    "coS_reduced = coS.where(np.logical_and(np.abs(coS.k_rg)<=0.14, np.abs(coS.k_az)<=0.14), drop=True)\n",
    "\n",
    "coS_IRcor=np.abs(xs['xspectra_2tau'].mean(dim='2tau').real) # co spectrum = real part of cross-spectrum\n",
    "coS_reduced_IRcor = coS_IRcor.where(np.logical_and(np.abs(coS_IRcor.k_rg)<=0.14, np.abs(coS_IRcor.k_az)<=0.14), drop=True)\n",
    "from matplotlib import pyplot as plt\n",
    "%matplotlib inline\n",
    "from matplotlib import colors as mcolors\n",
    "cmap = mcolors.LinearSegmentedColormap.from_list(\"\", [\"white\",\"violet\",\"mediumpurple\",\"cyan\",\"springgreen\",\"yellow\",\"red\"])\n",
    "PuOr = plt.get_cmap('PuOr')\n",
    "plt.figure(figsize=(16,12))\n",
    "plt.subplot(1,2,1)\n",
    "#coS_reduced_av=coS_reduced.rolling(k_rg=3, center=True).mean().rolling(k_az=3, center=True).mean()\n",
    "coS_reduced.plot(cmap=cmap, levels=20, vmin=0)\n",
    "\n",
    "plt.grid()\n",
    "plt.xticks(fontsize=20)\n",
    "plt.yticks(fontsize=20)\n",
    "plt.axis('scaled')\n",
    "\n",
    "plt.subplot(1,2,2)\n",
    "#coS_reduced_av=coS_reduced.rolling(k_rg=3, center=True).mean().rolling(k_az=3, center=True).mean()\n",
    "plt.title('with IR correction')\n",
    "coS_reduced_IRcor.plot(cmap=cmap, levels=20, vmin=0)\n",
    "\n",
    "plt.grid()\n",
    "plt.xticks(fontsize=20)\n",
    "plt.yticks(fontsize=20)\n",
    "plt.axis('scaled')\n",
    "\n",
    "############################################ imag.part ############################\n",
    "ims = xs['xspectra_2tau'].mean(dim='2tau').imag.squeeze()\n",
    "xS_red = ims.where(np.logical_and(np.abs(ims.k_rg)<=0.14, np.abs(ims.k_az)<=0.14), drop=True)\n",
    "ims_irCor = xs_ir['xspectra_2tau'].mean(dim='2tau').imag.squeeze()\n",
    "xS_red_IRCor = ims_irCor.where(np.logical_and(np.abs(ims_irCor.k_rg)<=0.14, np.abs(ims_irCor.k_az)<=0.14), drop=True)\n",
    "#xS_av=xS_red.rolling(k_rg=3, center=True).mean().rolling(k_az=3, center=True).mean()\n",
    "\n",
    "plt.figure(figsize=(16,12))\n",
    "plt.subplot(1,2,1)\n",
    "xS_red.plot(x='k_rg',cmap=PuOr)\n",
    "plt.grid()\n",
    "plt.xticks(fontsize=20)\n",
    "plt.yticks(fontsize=20)\n",
    "plt.axis('scaled')\n",
    "\n",
    "plt.subplot(1,2,2)\n",
    "xS_red_IRCor.plot(x='k_rg',cmap=PuOr)\n",
    "plt.grid()\n",
    "plt.xticks(fontsize=20)\n",
    "plt.yticks(fontsize=20)\n",
    "plt.axis('scaled')"
   ]
  },
  {
   "cell_type": "markdown",
   "id": "dbbcd2a9-4f6a-466d-bf1b-6888a0ed04f0",
   "metadata": {},
   "source": [
    "## display difference with / without IR correction"
   ]
  },
  {
   "cell_type": "code",
   "execution_count": null,
   "id": "53bbe575-cfd7-465b-8613-70a31c7c4b75",
   "metadata": {
    "tags": []
   },
   "outputs": [],
   "source": [
    "import numpy as np\n",
    "from xsarslc.processing import xspectra\n",
    "xs = xs0.swap_dims({'freq_line': 'k_az', 'freq_sample': 'k_rg'})\n",
    "xs = xspectra.symmetrize_xspectrum(xs, dim_range='k_rg', dim_azimuth='k_az')\n",
    "\n",
    "xs_ir = xs1.swap_dims({'freq_line': 'k_az', 'freq_sample': 'k_rg'})\n",
    "xs_ir = xspectra.symmetrize_xspectrum(xs_ir, dim_range='k_rg', dim_azimuth='k_az')\n",
    "\n",
    "############################################ real part ############################\n",
    "coS=np.abs(xs['xspectra_2tau'].mean(dim='2tau').real) # co spectrum = real part of cross-spectrum\n",
    "coS_reduced = coS.where(np.logical_and(np.abs(coS.k_rg)<=0.14, np.abs(coS.k_az)<=0.14), drop=True)\n",
    "\n",
    "coS_IRcor=np.abs(xs['xspectra_2tau'].mean(dim='2tau').real) # co spectrum = real part of cross-spectrum\n",
    "coS_reduced_IRcor = coS_IRcor.where(np.logical_and(np.abs(coS_IRcor.k_rg)<=0.14, np.abs(coS_IRcor.k_az)<=0.14), drop=True)\n",
    "from matplotlib import pyplot as plt\n",
    "%matplotlib inline\n",
    "from matplotlib import colors as mcolors\n",
    "cmap = mcolors.LinearSegmentedColormap.from_list(\"\", [\"white\",\"violet\",\"mediumpurple\",\"cyan\",\"springgreen\",\"yellow\",\"red\"])\n",
    "PuOr = plt.get_cmap('PuOr')\n",
    "plt.figure(figsize=(8,6))\n",
    "plt.subplot(1,1,1)\n",
    "#coS_reduced_av=coS_reduced.rolling(k_rg=3, center=True).mean().rolling(k_az=3, center=True).mean()\n",
    "di = coS_reduced-coS_reduced_IRcor\n",
    "print(di)\n",
    "di.plot(cmap=cmap)\n",
    "\n",
    "plt.grid()\n",
    "plt.xticks(fontsize=20)\n",
    "plt.yticks(fontsize=20)\n",
    "plt.axis('scaled')\n",
    "\n",
    "\n",
    "############################################ imag.part ############################\n",
    "ims = xs['xspectra_2tau'].mean(dim='2tau').imag.squeeze()\n",
    "xS_red = ims.where(np.logical_and(np.abs(ims.k_rg)<=0.14, np.abs(ims.k_az)<=0.14), drop=True)\n",
    "ims_irCor = xs_ir['xspectra_2tau'].mean(dim='2tau').imag.squeeze()\n",
    "xS_red_IRCor = ims_irCor.where(np.logical_and(np.abs(ims_irCor.k_rg)<=0.14, np.abs(ims_irCor.k_az)<=0.14), drop=True)\n",
    "#xS_av=xS_red.rolling(k_rg=3, center=True).mean().rolling(k_az=3, center=True).mean()\n",
    "\n",
    "plt.figure(figsize=(8,6))\n",
    "plt.subplot(1,1,1)\n",
    "(xS_red-xS_red_IRCor).plot(x='k_rg',cmap=PuOr)\n",
    "plt.grid()\n",
    "plt.xticks(fontsize=20)\n",
    "plt.yticks(fontsize=20)\n",
    "plt.axis('scaled')\n"
   ]
  },
  {
   "cell_type": "code",
   "execution_count": null,
   "id": "aed44cfc-6b46-4b69-a7d8-f36f9abfbaf8",
   "metadata": {
    "tags": []
   },
   "outputs": [],
   "source": [
    "xS_red.mean(dim='k_az').plot(label='without IR correction')\n",
    "xS_red_IRCor.mean(dim='k_az').plot(label='with IR correction')\n",
    "plt.grid(True)\n",
    "plt.legend()\n",
    "plt.title('L1B WV VV imaginary part x-spectra')\n",
    "plt.axhline(y=0,c='k',lw=2)"
   ]
  }
 ],
 "metadata": {
  "kernelspec": {
   "display_name": "Python 3 (ipykernel)",
   "language": "python",
   "name": "python3"
  },
  "language_info": {
   "codemirror_mode": {
    "name": "ipython",
    "version": 3
   },
   "file_extension": ".py",
   "mimetype": "text/x-python",
   "name": "python",
   "nbconvert_exporter": "python",
   "pygments_lexer": "ipython3",
   "version": "3.9.15"
  },
  "toc-autonumbering": true
 },
 "nbformat": 4,
 "nbformat_minor": 5
}
