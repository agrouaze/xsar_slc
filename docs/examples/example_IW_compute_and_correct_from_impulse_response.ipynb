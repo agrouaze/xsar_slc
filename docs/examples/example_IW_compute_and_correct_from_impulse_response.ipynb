{
 "cells": [
  {
   "cell_type": "markdown",
   "id": "c81105be-29b4-435f-96f6-4eb1a93d13a8",
   "metadata": {},
   "source": [
    "# A notebook to illustrate how to compute and correct Impulse Response in IW SLC product"
   ]
  },
  {
   "cell_type": "markdown",
   "id": "6d6fa6cc-2e15-40ff-801d-c7f4b6c18ddf",
   "metadata": {},
   "source": [
    "## compute IW1 impulse response"
   ]
  },
  {
   "cell_type": "code",
   "execution_count": null,
   "id": "94fd943f-58f4-40a6-83a6-e764bddda312",
   "metadata": {
    "tags": []
   },
   "outputs": [],
   "source": [
    "import warnings\n",
    "warnings.filterwarnings(\"ignore\")\n",
    "from xsarslc.processing.impulseResponse import generate_IWS_AUX_file_ImpulseReponse\n",
    "# SENTINEL1_DS:/home/datawork-cersat-public/cache/project/mpc-sentinel1/data/esa/sentinel-1a/L1/WV/S1A\\_WV\\_SLC\\_\\_1S/2018/050/S1A\\_WV\\_SLC\\_\\_1SSV\\_20180219T221522\\_20180219T222851\\_020681\\_0236CE\\_8F55.SAFE:WV_051\n",
    "subswathes = {'/home/datawork-cersat-public/cache/project/mpc-sentinel1/data/esa/sentinel-1a/L1/IW/S1A_IW_SLC__1S/2022/271/S1A_IW_SLC__1SDV_20220928T095555_20220928T095622_045203_056722_FB4F.SAFE/':[1],\n",
    "             }\n",
    "subswath_number = 1\n",
    "\n",
    "IRs_IW1_VV = generate_IWS_AUX_file_ImpulseReponse(subswathes, subswath_number , polarization='VV')\n",
    "IRs_IW1_VV\n",
    "IRs_IW1_VH = generate_IWS_AUX_file_ImpulseReponse(subswathes, subswath_number , polarization='VH')\n",
    "IRs_IW1_VH"
   ]
  },
  {
   "cell_type": "markdown",
   "id": "ece558c8-cf71-49c3-8cbe-15564e68300b",
   "metadata": {},
   "source": [
    "## save IR file to netCDF"
   ]
  },
  {
   "cell_type": "code",
   "execution_count": null,
   "id": "7e49ff09-dc8b-4ed0-9be2-5269d6cdea57",
   "metadata": {
    "tags": []
   },
   "outputs": [],
   "source": [
    "out_file = \"/tmp/S1_IR_IW1_VV_AUX_FILE.nc\"\n",
    "if 'footprint' in IRs_IW1_VV.attrs:\n",
    "    IRs_IW1_VV.attrs.update({'footprint': str(IRs_IW1_VV.footprint)})\n",
    "if 'multidataset' in IRs_IW1_VV.attrs:\n",
    "    IRs_IW1_VV.attrs.update({'multidataset': str(IRs_IW1_VV.multidataset)})\n",
    "IRs_IW1_VV.to_netcdf(out_file)\n",
    "print(out_file)"
   ]
  },
  {
   "cell_type": "markdown",
   "id": "fe7163f0-d656-47f9-852b-9066e5c84177",
   "metadata": {},
   "source": [
    "## display IW1 range impulse response for VV and VH"
   ]
  },
  {
   "cell_type": "code",
   "execution_count": null,
   "id": "15df43d0-e736-4bf1-9750-ee1422be8a8b",
   "metadata": {
    "tags": []
   },
   "outputs": [],
   "source": [
    "from matplotlib import pyplot as plt\n",
    "IRs_IW1_VV['range_IR'].plot(label='VV')\n",
    "IRs_IW1_VH['range_IR'].plot(label='VH',alpha=0.7)\n",
    "plt.legend()\n",
    "plt.grid(True)\n",
    "plt.title('burst = %s subswath = %s'%(IRs_IW1_VH.burst.values,IRs_IW1_VH.attrs['subswath']))"
   ]
  },
  {
   "cell_type": "markdown",
   "id": "3db5ce08-40d0-4b4a-872b-6882b7ae76c3",
   "metadata": {},
   "source": [
    "## display IW1 azimuth impulse response for VV and VH"
   ]
  },
  {
   "cell_type": "code",
   "execution_count": null,
   "id": "c2fde0c9-44f4-4c51-ba8c-6d03affcbe72",
   "metadata": {
    "tags": []
   },
   "outputs": [],
   "source": [
    "from matplotlib import pyplot as plt\n",
    "IRs_IW1_VV['azimuth_IR'].plot(label='VV')\n",
    "IRs_IW1_VH['azimuth_IR'].plot(label='VH',alpha=0.7)\n",
    "plt.legend()\n",
    "plt.grid(True)\n",
    "plt.title('burst = %s subswath = %s'%(IRs_IW1_VH.burst.values,IRs_IW1_VH.attrs['subswath']))"
   ]
  },
  {
   "cell_type": "markdown",
   "id": "206eaad3-8b01-4ee1-b2e7-2953d292edfe",
   "metadata": {},
   "source": [
    "## apply IR correction when computing a cross spectra"
   ]
  },
  {
   "cell_type": "code",
   "execution_count": null,
   "id": "4baa55cf-aedb-44d7-acc3-8a5d5c1ad114",
   "metadata": {
    "tags": []
   },
   "outputs": [],
   "source": [
    "import xsarslc\n",
    "import xsar\n",
    "import os\n",
    "one_tiff = '/home/datawork-cersat-public/cache/project/mpc-sentinel1/data/esa/sentinel-1a/L1/IW/S1A_IW_SLC__1S/2022/127/S1A_IW_SLC__1SDV_20220507T162411_20220507T162439_043107_0525DE_734D.SAFE/measurement/s1a-iw1-slc-vv-20220507t162411-20220507t162439-043107-0525de-004.tiff'\n",
    "fullpathsafeSLC = os.path.dirname(os.path.dirname(one_tiff))\n",
    "imagette_number = os.path.basename(one_tiff).split('-')[1].replace('iw','')\n",
    "str_gdal = 'SENTINEL1_DS:%s:IW%s'%(fullpathsafeSLC,imagette_number)\n",
    "print('str_gdal',str_gdal)\n",
    "xsarobj = xsar.Sentinel1Dataset(str_gdal) #,resolution='30m'\n",
    "xsarobj"
   ]
  },
  {
   "cell_type": "code",
   "execution_count": null,
   "id": "d238eb5b-3ac5-42a3-81be-f7e27882623d",
   "metadata": {
    "tags": []
   },
   "outputs": [],
   "source": [
    "dt = xsarobj.datatree\n",
    "dt.load()\n",
    "dt"
   ]
  },
  {
   "cell_type": "code",
   "execution_count": null,
   "id": "ae1b4592-2847-43b6-b681-bb7293f008ee",
   "metadata": {
    "tags": []
   },
   "outputs": [],
   "source": [
    "import xsarslc.processing.xspectra\n",
    "intra_xs_without_IR = xsarslc.processing.xspectra.compute_IW_subswath_intraburst_xspectra(dt, \n",
    "                                         tile_width={'sample': 20.e3, 'line': 20.e3},\n",
    "                                         tile_overlap={'sample': 10.e3, 'line': 10.e3},\n",
    "                                         periodo_width = {'sample': 4000, 'line': 4000},\n",
    "                                        periodo_overlap = {'sample': 2000, 'line': 2000},\n",
    "                                        polarization='VV',dev=True)\n",
    "intra_xs_without_IR"
   ]
  },
  {
   "cell_type": "code",
   "execution_count": null,
   "id": "4ed97aae-974c-42ba-ba47-7aaa33fd5f51",
   "metadata": {},
   "outputs": [],
   "source": []
  },
  {
   "cell_type": "code",
   "execution_count": null,
   "id": "875058c6-55a4-4b83-88b1-bc197684407f",
   "metadata": {
    "tags": []
   },
   "outputs": [],
   "source": [
    "IR_path = out_file\n",
    "intra_xs_with_IR = xsarslc.processing.xspectra.compute_IW_subswath_intraburst_xspectra(dt, \n",
    "                                         tile_width={'sample': 20.e3, 'line': 20.e3},\n",
    "                                         tile_overlap={'sample': 10.e3, 'line': 10.e3},\n",
    "                                         periodo_width = {'sample': 4000, 'line': 4000},\n",
    "                                        periodo_overlap = {'sample': 2000, 'line': 2000},\n",
    "                                        polarization='VV',dev=True,IR_path=IR_path)\n",
    "intra_xs_with_IR"
   ]
  },
  {
   "cell_type": "code",
   "execution_count": null,
   "id": "45df0b37-a1fe-43b5-b9d6-7bf13057ca80",
   "metadata": {
    "tags": []
   },
   "outputs": [],
   "source": [
    "bursti = 0\n",
    "tile_line_i = 0\n",
    "tile_sample_i = 0\n",
    "onespec_without_IR = intra_xs_without_IR['xspectra_2tau'].isel({'burst':bursti,'tile_sample':tile_sample_i,'tile_line':tile_line_i}).squeeze()\n",
    "onespec_without_IR = onespec_without_IR.swap_dims({'freq_line': 'k_az', 'freq_sample': 'k_rg'})\n",
    "abs(onespec_without_IR.real.mean(dim='k_rg')).plot(label='real without IR')\n",
    "\n",
    "onespec_with_IR = intra_xs_with_IR['xspectra_2tau'].isel({'burst':bursti,'tile_sample':tile_sample_i,'tile_line':tile_line_i}).squeeze()\n",
    "onespec_with_IR = onespec_with_IR.swap_dims({'freq_line': 'k_az', 'freq_sample': 'k_rg'})\n",
    "abs(onespec_with_IR.real.mean(dim='k_rg')).plot(label='real with IR')\n",
    "plt.legend()\n",
    "plt.grid(True)"
   ]
  },
  {
   "cell_type": "code",
   "execution_count": null,
   "id": "1f325e7c-bb20-43ea-a77e-6aaf80ff6507",
   "metadata": {
    "tags": []
   },
   "outputs": [],
   "source": [
    "onespec_without_IR.imag.mean(dim='k_rg').plot(label='imag. without IR')\n",
    "onespec_with_IR.imag.mean(dim='k_rg').plot(label='imag. with IR')\n",
    "plt.legend()\n",
    "plt.grid(True)"
   ]
  }
 ],
 "metadata": {
  "kernelspec": {
   "display_name": "Python 3 (ipykernel)",
   "language": "python",
   "name": "python3"
  },
  "language_info": {
   "codemirror_mode": {
    "name": "ipython",
    "version": 3
   },
   "file_extension": ".py",
   "mimetype": "text/x-python",
   "name": "python",
   "nbconvert_exporter": "python",
   "pygments_lexer": "ipython3",
   "version": "3.9.15"
  }
 },
 "nbformat": 4,
 "nbformat_minor": 5
}
